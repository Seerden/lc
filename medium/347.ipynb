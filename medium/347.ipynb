{
 "cells": [
  {
   "cell_type": "markdown",
   "id": "4134883c-818b-4fd9-8a22-87c054711b7e",
   "metadata": {
    "tags": []
   },
   "source": [
    "## 347. `Top K Frequent Elements`\n"
   ]
  },
  {
   "cell_type": "markdown",
   "id": "b5ae6256-5887-4790-a198-95b84d85b49e",
   "metadata": {},
   "source": [
    "```python\n",
    "class Solution:\n",
    "    def topKFrequent(self, nums: List[int], k: int) -> List[int]:\n",
    "        dic = {}\n",
    "        dic2 = {}\n",
    "        \n",
    "        n = len(nums)\n",
    "        \n",
    "        if k == n:\n",
    "            return list(set(nums))\n",
    "        \n",
    "        for num in nums:\n",
    "            dic[num] = dic.get(num, 0) + 1\n",
    "            \n",
    "        for _k, _v in dic.items():\n",
    "            dic2[_v] = dic2.get(_v, []) + [_k]\n",
    "            \n",
    "        longest = []\n",
    "        for _count in sorted(list(dic2.keys()))[::-1]:\n",
    "            if len(longest) < k:\n",
    "                longest += dic2[_count]\n",
    "                    \n",
    "        return longest\n",
    "```"
   ]
  },
  {
   "cell_type": "markdown",
   "id": "cbdc227a-8169-4587-b0f5-946f12fe3150",
   "metadata": {},
   "source": [
    "```\n",
    "Runtime: 109 ms, faster than 50.20% of Python3 online submissions for Top K Frequent Elements.\n",
    "Memory Usage: 18.9 MB, less than 36.50% of Python3 online submissions for Top K Frequent Elements.\n",
    "```"
   ]
  }
 ],
 "metadata": {
  "kernelspec": {
   "display_name": "Python 3 (ipykernel)",
   "language": "python",
   "name": "python3"
  },
  "language_info": {
   "codemirror_mode": {
    "name": "ipython",
    "version": 3
   },
   "file_extension": ".py",
   "mimetype": "text/x-python",
   "name": "python",
   "nbconvert_exporter": "python",
   "pygments_lexer": "ipython3",
   "version": "3.9.7"
  }
 },
 "nbformat": 4,
 "nbformat_minor": 5
}
