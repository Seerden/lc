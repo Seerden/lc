{
 "cells": [
  {
   "cell_type": "code",
   "execution_count": 2,
   "metadata": {},
   "outputs": [],
   "source": [
    "from typing import List\n",
    "from numpy.random import randint"
   ]
  },
  {
   "cell_type": "markdown",
   "metadata": {},
   "source": [
    "# 207. `Course Schedule`\n"
   ]
  },
  {
   "cell_type": "markdown",
   "metadata": {},
   "source": [
    "If we represent the problem as a directed graph, we can solve the problem by finding whether there are any cycles in the graph. If there are, we can't take all courses. If there aren't, we can take all courses."
   ]
  },
  {
   "cell_type": "markdown",
   "metadata": {},
   "source": [
    "DFS: https://www.youtube.com/watch?v=7fujbpJ0LB4"
   ]
  },
  {
   "cell_type": "markdown",
   "metadata": {},
   "source": [
    "Detect cycle in a Graph using DFS:\n",
    "https://www.youtube.com/watch?v=D3fpwrySV_w\n"
   ]
  }
 ],
 "metadata": {
  "kernelspec": {
   "display_name": "Python 3",
   "language": "python",
   "name": "python3"
  },
  "language_info": {
   "codemirror_mode": {
    "name": "ipython",
    "version": 3
   },
   "file_extension": ".py",
   "mimetype": "text/x-python",
   "name": "python",
   "nbconvert_exporter": "python",
   "pygments_lexer": "ipython3",
   "version": "3.9.0"
  }
 },
 "nbformat": 4,
 "nbformat_minor": 4
}
