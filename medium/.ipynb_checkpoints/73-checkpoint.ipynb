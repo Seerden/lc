{
 "cells": [
  {
   "cell_type": "code",
   "execution_count": 1,
   "metadata": {},
   "outputs": [],
   "source": [
    "from typing import List"
   ]
  },
  {
   "cell_type": "markdown",
   "metadata": {},
   "source": [
    "## 73: `Set Matrix Zeroes`"
   ]
  },
  {
   "cell_type": "markdown",
   "metadata": {},
   "source": [
    "- Loop through matrix\n",
    "- Store rows and columns containing zeroes in a dictionary"
   ]
  },
  {
   "cell_type": "code",
   "execution_count": 12,
   "metadata": {},
   "outputs": [],
   "source": [
    "def setZeroes(matrix: List[List[int]]) -> None:\n",
    "    m = len(matrix)\n",
    "    n = len(matrix[0])\n",
    "    \n",
    "    dic = dict(row=[], col=[])\n",
    "    for i_row, row in enumerate(matrix):\n",
    "        for i_col, val in enumerate(row):\n",
    "            if val == 0:\n",
    "                dic['row'].append(i_row)\n",
    "                dic['col'].append(i_col)\n",
    "                \n",
    "    for i_row, row in enumerate(matrix):\n",
    "        if i_row in dic['row']:\n",
    "            matrix[i_row] = [0]*len(row)\n",
    "        else:\n",
    "            for i_col, val in enumerate(row):\n",
    "                if i_col in dic['col']:\n",
    "                    matrix[i_row][i_col] = 0"
   ]
  },
  {
   "cell_type": "markdown",
   "metadata": {},
   "source": [
    "```\n",
    "Runtime: 128 ms, faster than 81.70% of Python3 online submissions for Set Matrix Zeroes.\n",
    "Memory Usage: 15.3 MB, less than 14.65% of Python3 online submissions for Set Matrix Zeroes.\n",
    "```"
   ]
  },
  {
   "cell_type": "markdown",
   "metadata": {},
   "source": [
    "- Could you devise a constant space solution?\n",
    "    - No..\n",
    "    - LC: use the first row or column to track, instead of a dictionary/set/arrays"
   ]
  }
 ],
 "metadata": {
  "kernelspec": {
   "display_name": "Python 3",
   "language": "python",
   "name": "python3"
  },
  "language_info": {
   "codemirror_mode": {
    "name": "ipython",
    "version": 3
   },
   "file_extension": ".py",
   "mimetype": "text/x-python",
   "name": "python",
   "nbconvert_exporter": "python",
   "pygments_lexer": "ipython3",
   "version": "3.9.0"
  }
 },
 "nbformat": 4,
 "nbformat_minor": 4
}
