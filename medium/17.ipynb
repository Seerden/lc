{
 "cells": [
  {
   "cell_type": "markdown",
   "metadata": {},
   "source": [
    "## 19. `Remove Nth Node From End of List`\n"
   ]
  },
  {
   "cell_type": "markdown",
   "metadata": {},
   "source": [
    "### Process:\n",
    "\n",
    "- Find length of linked list\n",
    "- Use two pointers (i at list[n-1] and j at list[n+1]) to set list[n-1].next to list[n+1]\n",
    "\n",
    "Is a two-pass solution. How do you turn this into a one-pass, without putting every ListNode into an array (large extra space complexity)?\n",
    "\n",
    "- $\\Rightarrow$ <span style=\"color: orange;\">LC: Create a second pointer and advance the second one by n. Advance both pointers until second pointer doesn't contain a Node anymore. Then set first pointer's `next` to `next.next`</span>"
   ]
  },
  {
   "cell_type": "code",
   "execution_count": null,
   "metadata": {},
   "outputs": [],
   "source": []
  }
 ],
 "metadata": {
  "kernelspec": {
   "display_name": "Python 3",
   "language": "python",
   "name": "python3"
  },
  "language_info": {
   "codemirror_mode": {
    "name": "ipython",
    "version": 3
   },
   "file_extension": ".py",
   "mimetype": "text/x-python",
   "name": "python",
   "nbconvert_exporter": "python",
   "pygments_lexer": "ipython3",
   "version": "3.9.0"
  }
 },
 "nbformat": 4,
 "nbformat_minor": 4
}
