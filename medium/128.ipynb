{
 "cells": [
  {
   "cell_type": "markdown",
   "metadata": {},
   "source": [
    "## 128. `Longest Consecutive Sequence`"
   ]
  },
  {
   "cell_type": "markdown",
   "metadata": {},
   "source": [
    "```python\n",
    "def longestConsecutive(self, nums: List[int]) -> int:\n",
    "        nums = sorted(list(set(nums)))\n",
    "        \n",
    "        i = 0\n",
    "        cur = 1\n",
    "        max_len = 0\n",
    "        \n",
    "        if len(nums) == 1:\n",
    "            return 1\n",
    "        if not len(nums):\n",
    "            return 0\n",
    "        \n",
    "        while i < len(nums)-1:\n",
    "            \n",
    "            if nums[i+1] == nums[i]+1:\n",
    "                cur+=1\n",
    "            else:\n",
    "                cur = 1\n",
    "                \n",
    "            max_len = max(max_len, cur)\n",
    "\n",
    "            i += 1\n",
    "            \n",
    "        return max_len\n",
    "```"
   ]
  },
  {
   "cell_type": "markdown",
   "metadata": {},
   "source": [
    "```\n",
    "Runtime: 196 ms, faster than 75.10% of Python3 online submissions for Longest Consecutive Sequence.\n",
    "\n",
    "Memory Usage: 25.9 MB, less than 52.14% of Python3 online submissions for Longest Consecutive Sequence.\n",
    "```"
   ]
  }
 ],
 "metadata": {
  "kernelspec": {
   "display_name": "Python 3",
   "language": "python",
   "name": "python3"
  },
  "language_info": {
   "codemirror_mode": {
    "name": "ipython",
    "version": 3
   },
   "file_extension": ".py",
   "mimetype": "text/x-python",
   "name": "python",
   "nbconvert_exporter": "python",
   "pygments_lexer": "ipython3",
   "version": "3.9.0"
  }
 },
 "nbformat": 4,
 "nbformat_minor": 4
}
