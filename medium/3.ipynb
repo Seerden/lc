{
 "cells": [
  {
   "cell_type": "markdown",
   "metadata": {},
   "source": [
    "## 3. `Longest Substring Without Repeating Characters`"
   ]
  },
  {
   "cell_type": "markdown",
   "metadata": {},
   "source": [
    "### Process:\n",
    "\n",
    "- Has to be a recursive solution, maybe a DFS\n",
    "- Could also explore a hashmap: \n",
    "    - log indices of every unique character\n",
    "    - find characters that repeat\n",
    "    \n",
    "- LC: sliding window"
   ]
  },
  {
   "cell_type": "code",
   "execution_count": 18,
   "metadata": {},
   "outputs": [],
   "source": [
    "def l(s: str) -> int:\n",
    "    mapping = {}\n",
    "    \n",
    "    for i, char in enumerate(s):\n",
    "        mapping[char] = mapping.get(char, []) + [i]\n",
    "        \n",
    "    return mapping"
   ]
  },
  {
   "cell_type": "code",
   "execution_count": 20,
   "metadata": {},
   "outputs": [
    {
     "data": {
      "text/plain": [
       "{'a': [0, 3, 5], 'b': [1, 6], 'c': [2, 4], 'd': [7]}"
      ]
     },
     "execution_count": 20,
     "metadata": {},
     "output_type": "execute_result"
    }
   ],
   "source": [
    "l('abcacabd')"
   ]
  },
  {
   "cell_type": "markdown",
   "metadata": {},
   "source": [
    "---"
   ]
  },
  {
   "cell_type": "markdown",
   "metadata": {},
   "source": [
    "## Brute-force: Find the length of every unique substring\n",
    "Slow"
   ]
  },
  {
   "cell_type": "code",
   "execution_count": 43,
   "metadata": {},
   "outputs": [],
   "source": [
    "def l(s: str) -> int:\n",
    "   \n",
    "    def rec(s: str) -> int:\n",
    "        substr = ''\n",
    "        for char in s:\n",
    "            if char in set(substr):\n",
    "                longest = len(substr)\n",
    "                return len(substr)\n",
    "            else:\n",
    "                substr += char\n",
    "                \n",
    "        return len(substr)\n",
    "                \n",
    "    lengths = [0]*len(s)\n",
    "    \n",
    "    for i in range(len(s)):\n",
    "        lengths[i] = rec(s[i:])\n",
    "        \n",
    "    return max(lengths)"
   ]
  },
  {
   "cell_type": "markdown",
   "metadata": {},
   "source": [
    "### Sliding window:"
   ]
  },
  {
   "cell_type": "code",
   "execution_count": 59,
   "metadata": {},
   "outputs": [],
   "source": [
    "def l(s:str) -> int:\n",
    "    result = ''\n",
    "    max_len = 0\n",
    "    for i, char in enumerate(s):\n",
    "        if char in result:\n",
    "            result = result[result.index(char)+1:]+char\n",
    "        else:\n",
    "            result += char\n",
    "\n",
    "        max_len = max(len(result), max_len)\n",
    "    return max_len"
   ]
  },
  {
   "cell_type": "markdown",
   "metadata": {},
   "source": [
    "```\n",
    "95 ms, beats 37.72% (seems like LC has gotten slower over time)\n",
    "14.4 MB, beats 24.45%\n",
    "```"
   ]
  }
 ],
 "metadata": {
  "kernelspec": {
   "display_name": "Python 3",
   "language": "python",
   "name": "python3"
  },
  "language_info": {
   "codemirror_mode": {
    "name": "ipython",
    "version": 3
   },
   "file_extension": ".py",
   "mimetype": "text/x-python",
   "name": "python",
   "nbconvert_exporter": "python",
   "pygments_lexer": "ipython3",
   "version": "3.9.0"
  }
 },
 "nbformat": 4,
 "nbformat_minor": 4
}
