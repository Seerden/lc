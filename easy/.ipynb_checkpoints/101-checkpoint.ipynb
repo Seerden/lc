{
 "cells": [
  {
   "cell_type": "markdown",
   "metadata": {},
   "source": [
    "## 101. `Symmetric Tree`"
   ]
  },
  {
   "cell_type": "markdown",
   "metadata": {},
   "source": [
    "### Approach:\n",
    "\n",
    "- Recursion   "
   ]
  },
  {
   "cell_type": "markdown",
   "metadata": {},
   "source": [
    "See https://leetcode.com/problems/symmetric-tree/discuss/33068/6line-AC-python"
   ]
  },
  {
   "cell_type": "code",
   "execution_count": 1,
   "metadata": {},
   "outputs": [],
   "source": [
    "def isSym(root):\n",
    "    def mirror(l, r):\n",
    "        if (not l) and (not r):\n",
    "            return True\n",
    "        if l and r and (l.val == r.val):\n",
    "            return mirror(l.left, l.right) and mirror(l.right, r.left)\n",
    "    return mirror(root.left, root.right)"
   ]
  },
  {
   "cell_type": "markdown",
   "metadata": {},
   "source": [
    "```\n",
    "Runtime: 36 ms, faster than 68.70% of Python3 online submissions for Symmetric Tree.\n",
    "Memory Usage: 14.3 MB, less than 49.87% of Python3 online submissions for Symmetric Tree.\n",
    "```"
   ]
  }
 ],
 "metadata": {
  "kernelspec": {
   "display_name": "Python 3",
   "language": "python",
   "name": "python3"
  },
  "language_info": {
   "codemirror_mode": {
    "name": "ipython",
    "version": 3
   },
   "file_extension": ".py",
   "mimetype": "text/x-python",
   "name": "python",
   "nbconvert_exporter": "python",
   "pygments_lexer": "ipython3",
   "version": "3.9.0"
  }
 },
 "nbformat": 4,
 "nbformat_minor": 4
}
