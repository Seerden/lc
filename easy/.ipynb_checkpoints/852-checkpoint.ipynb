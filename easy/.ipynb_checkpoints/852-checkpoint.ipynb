{
 "cells": [
  {
   "cell_type": "markdown",
   "metadata": {},
   "source": [
    "## 852. `Peak Index in a Mountain Array`"
   ]
  },
  {
   "cell_type": "markdown",
   "metadata": {},
   "source": [
    "```python\n",
    "def peakIndexInMountainArray(self, arr: List[int]) -> int:\n",
    "        return arr.index(max(arr))\n",
    "```"
   ]
  },
  {
   "cell_type": "markdown",
   "metadata": {},
   "source": [
    "```\n",
    "Runtime: 83 ms, faster than 40.89% of Python3 online submissions for Peak Index in a Mountain Array.\n",
    "Memory Usage: 15.4 MB, less than 60.39% of Python3 online submissions for Peak Index in a Mountain Array.\n",
    "```"
   ]
  }
 ],
 "metadata": {
  "kernelspec": {
   "display_name": "Python 3",
   "language": "python",
   "name": "python3"
  },
  "language_info": {
   "codemirror_mode": {
    "name": "ipython",
    "version": 3
   },
   "file_extension": ".py",
   "mimetype": "text/x-python",
   "name": "python",
   "nbconvert_exporter": "python",
   "pygments_lexer": "ipython3",
   "version": "3.9.0"
  }
 },
 "nbformat": 4,
 "nbformat_minor": 4
}
