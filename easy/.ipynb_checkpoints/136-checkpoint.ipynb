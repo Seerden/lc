{
 "cells": [
  {
   "cell_type": "markdown",
   "metadata": {},
   "source": [
    "## 136. `Single Number`"
   ]
  },
  {
   "cell_type": "markdown",
   "metadata": {},
   "source": [
    "### Approaches:\n",
    "1. XOR trick\n",
    "2. Dictionary with items and respective counts, then loop to find one where count == 1"
   ]
  },
  {
   "cell_type": "markdown",
   "metadata": {},
   "source": [
    "```python\n",
    "def singleNumber(self, nums: List[int]) -> int:\n",
    "        single = 0\n",
    "        \n",
    "        for num in nums:\n",
    "            single ^= num\n",
    "            \n",
    "        return single\n",
    "```"
   ]
  },
  {
   "cell_type": "markdown",
   "metadata": {},
   "source": [
    "```\n",
    "Runtime: 132 ms, faster than 76.30% of Python3 online submissions for Single Number.\n",
    "Memory Usage: 16.7 MB, less than 19.16% of Python3 online submissions for Single Number.\n",
    "```"
   ]
  }
 ],
 "metadata": {
  "kernelspec": {
   "display_name": "Python 3",
   "language": "python",
   "name": "python3"
  },
  "language_info": {
   "codemirror_mode": {
    "name": "ipython",
    "version": 3
   },
   "file_extension": ".py",
   "mimetype": "text/x-python",
   "name": "python",
   "nbconvert_exporter": "python",
   "pygments_lexer": "ipython3",
   "version": "3.9.0"
  }
 },
 "nbformat": 4,
 "nbformat_minor": 4
}
