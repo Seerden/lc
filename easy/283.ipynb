{
 "cells": [
  {
   "cell_type": "code",
   "execution_count": 1,
   "metadata": {},
   "outputs": [],
   "source": [
    "from numpy.random import randint\n",
    "from typing import List"
   ]
  },
  {
   "cell_type": "markdown",
   "metadata": {},
   "source": [
    "# 283. `Move Zeroes`"
   ]
  },
  {
   "cell_type": "code",
   "execution_count": 2,
   "metadata": {},
   "outputs": [],
   "source": [
    "def makeNums():\n",
    "    return randint(0, 10, 10)\n",
    "\n",
    "nums = makeNums()"
   ]
  },
  {
   "cell_type": "markdown",
   "metadata": {},
   "source": [
    "### Brute force"
   ]
  },
  {
   "cell_type": "code",
   "execution_count": 3,
   "metadata": {},
   "outputs": [],
   "source": [
    "def moveZeroes(nums: List[int]):\n",
    "    n = len(nums)\n",
    "\n",
    "    if n > 1:\n",
    "        i = 0\n",
    "        j = 1\n",
    "\n",
    "        while (i < n-1) and (j < n):\n",
    "            j = i+1\n",
    "            if nums[i] == 0:\n",
    "                while j < len(nums):\n",
    "                    if nums[j] == 0:\n",
    "                        j += 1\n",
    "                    else:\n",
    "                        nums[i], nums[j] = nums[j], nums[i]\n",
    "                        i += 1\n",
    "            else:\n",
    "                i += 1"
   ]
  },
  {
   "cell_type": "code",
   "execution_count": 4,
   "metadata": {},
   "outputs": [
    {
     "data": {
      "text/plain": [
       "array([8, 2, 4, 8, 7, 5, 5, 1, 6, 0])"
      ]
     },
     "execution_count": 4,
     "metadata": {},
     "output_type": "execute_result"
    }
   ],
   "source": [
    "moveZeroes(nums)\n",
    "nums"
   ]
  },
  {
   "cell_type": "markdown",
   "metadata": {},
   "source": [
    "```\n",
    "223ms, beats 18.94%\n",
    "15.5MB, beats 25.60%\n",
    "```"
   ]
  }
 ],
 "metadata": {
  "kernelspec": {
   "display_name": "Python 3",
   "language": "python",
   "name": "python3"
  },
  "language_info": {
   "codemirror_mode": {
    "name": "ipython",
    "version": 3
   },
   "file_extension": ".py",
   "mimetype": "text/x-python",
   "name": "python",
   "nbconvert_exporter": "python",
   "pygments_lexer": "ipython3",
   "version": "3.9.0"
  }
 },
 "nbformat": 4,
 "nbformat_minor": 4
}
