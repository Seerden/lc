{
 "cells": [
  {
   "cell_type": "markdown",
   "metadata": {},
   "source": [
    "## 268. `Missing Number`"
   ]
  },
  {
   "cell_type": "markdown",
   "metadata": {},
   "source": [
    "### Approach:\n",
    "    - Find the element of nums that's not in a set of all elements in the given range, using python set operations"
   ]
  },
  {
   "cell_type": "markdown",
   "metadata": {},
   "source": [
    "```python\n",
    "def missingNumber(self, nums: List[int]) -> int:\n",
    "        numset = set(nums)\n",
    "        \n",
    "        rangeset = set(list(range(len(nums)+1)))\n",
    "        \n",
    "        return list(numset.symmetric_difference(rangeset))[0]\n",
    "```"
   ]
  },
  {
   "cell_type": "markdown",
   "metadata": {},
   "source": [
    "```\n",
    "Runtime: 120 ms, faster than 97.58% of Python3 online submissions for Missing Number.\n",
    "Memory Usage: 16.9 MB, less than 5.44% of Python3 online submissions for Missing Number.\n",
    "```"
   ]
  },
  {
   "cell_type": "markdown",
   "metadata": {},
   "source": [
    "- From LC: a more space-efficient approach would be to find the difference between the sum of `nums` and the sum of all numbers in the range"
   ]
  }
 ],
 "metadata": {
  "kernelspec": {
   "display_name": "Python 3",
   "language": "python",
   "name": "python3"
  },
  "language_info": {
   "codemirror_mode": {
    "name": "ipython",
    "version": 3
   },
   "file_extension": ".py",
   "mimetype": "text/x-python",
   "name": "python",
   "nbconvert_exporter": "python",
   "pygments_lexer": "ipython3",
   "version": "3.9.0"
  }
 },
 "nbformat": 4,
 "nbformat_minor": 4
}
