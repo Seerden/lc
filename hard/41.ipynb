{
 "cells": [
  {
   "cell_type": "markdown",
   "metadata": {},
   "source": [
    "## 41. `First Missing Positive`"
   ]
  },
  {
   "cell_type": "markdown",
   "metadata": {},
   "source": [
    "- Set\n",
    "    - Doesn't use O(1) extra space. Creating this type of set is O(n)"
   ]
  },
  {
   "cell_type": "markdown",
   "metadata": {},
   "source": [
    "```python\n",
    "def firstMissingPositive(self, nums: List[int]) -> int:\n",
    "        i = 1\n",
    "        \n",
    "        s = set(nums)\n",
    "        \n",
    "        while i < (5e5):\n",
    "            if not i in s:\n",
    "                return i\n",
    "            i += 1\n",
    "            \n",
    "        return i+1\n",
    "```"
   ]
  },
  {
   "cell_type": "markdown",
   "metadata": {},
   "source": [
    "```\n",
    "Runtime: 826 ms, faster than 90.02% of Python3 online submissions for First Missing Positive.\n",
    "Memory Usage: 69 MB, less than 18.31% of Python3 online submissions for First Missing Positive.\n",
    "```"
   ]
  },
  {
   "cell_type": "markdown",
   "metadata": {},
   "source": [
    "- O(n) space solution is clever: \n",
    "    - Since list length is at most 5e5, we can loop through the array and set the value at index [i] to i, when we encounter number `i` in the list (e.g. if nums[3] == 1, then we set nums[1] = 1 by swapping nums[3] and nums[1]).\n",
    "    - After looping once and setting each value we encountered at its proper index, we can return the first index at which the index and its value aren't equal.\n",
    "    - If all indices are equal, then the first missing positive is 5e5+1 (since it can't possibly inside the list due to the list's size)\n"
   ]
  }
 ],
 "metadata": {
  "kernelspec": {
   "display_name": "Python 3",
   "language": "python",
   "name": "python3"
  },
  "language_info": {
   "codemirror_mode": {
    "name": "ipython",
    "version": 3
   },
   "file_extension": ".py",
   "mimetype": "text/x-python",
   "name": "python",
   "nbconvert_exporter": "python",
   "pygments_lexer": "ipython3",
   "version": "3.9.0"
  }
 },
 "nbformat": 4,
 "nbformat_minor": 4
}
