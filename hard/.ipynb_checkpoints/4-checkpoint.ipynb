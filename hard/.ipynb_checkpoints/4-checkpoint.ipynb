{
 "cells": [
  {
   "cell_type": "markdown",
   "metadata": {},
   "source": [
    "## 4. `Median of Two Sorted Arrays`"
   ]
  },
  {
   "cell_type": "markdown",
   "metadata": {},
   "source": [
    "```python\n",
    "def findMedianSortedArrays(self, nums1: List[int], nums2: List[int]) -> float:\n",
    "        combined = nums1+nums2\n",
    "        combined.sort()\n",
    "        \n",
    "        n = len(combined)\n",
    "        \n",
    "        if n == 1:\n",
    "            return combined[0]\n",
    "        \n",
    "        if n % 2:\n",
    "            return combined[n//2]\n",
    "        else:\n",
    "            mid = n//2\n",
    "            \n",
    "            return (combined[mid-1]+combined[mid])/2\n",
    "```"
   ]
  },
  {
   "cell_type": "markdown",
   "metadata": {},
   "source": [
    "```\n",
    "Runtime: 97 ms, faster than 55.02% of Python3 online submissions for Median of Two Sorted Arrays.\n",
    "Memory Usage: 14.2 MB, less than 99.91% of Python3 online submissions for Median of Two Sorted Arrays.\n",
    "```"
   ]
  }
 ],
 "metadata": {
  "kernelspec": {
   "display_name": "Python 3",
   "language": "python",
   "name": "python3"
  },
  "language_info": {
   "codemirror_mode": {
    "name": "ipython",
    "version": 3
   },
   "file_extension": ".py",
   "mimetype": "text/x-python",
   "name": "python",
   "nbconvert_exporter": "python",
   "pygments_lexer": "ipython3",
   "version": "3.9.0"
  }
 },
 "nbformat": 4,
 "nbformat_minor": 4
}
